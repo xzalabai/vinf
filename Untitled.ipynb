{
 "cells": [
  {
   "cell_type": "code",
   "execution_count": 110,
   "metadata": {},
   "outputs": [],
   "source": [
    "import re\n",
    "import time"
   ]
  },
  {
   "cell_type": "code",
   "execution_count": 111,
   "metadata": {},
   "outputs": [],
   "source": [
    "articles_categories = open(\"D:/fiit/9 SEM/VINF/article_categories_sk.nq\",\"r\")\n",
    "redirects = open(\"D:/fiit/9 SEM/VINF/redirects_sk.nq\",\"r\")\n",
    "links = open(\"D:/fiit/9 SEM/VINF/interlanguage_links_sk.nq\",\"r\")"
   ]
  },
  {
   "cell_type": "code",
   "execution_count": 112,
   "metadata": {},
   "outputs": [],
   "source": [
    "class Record:\n",
    "    def __init__(self, article, article_category, redirect, link):\n",
    "        self.article_category = article_category\n",
    "        self.article = article\n",
    "        self.redirect = redirect\n",
    "        self.link = link\n",
    "        \n",
    "    def PrettyCategories(self):\n",
    "        print(\"Categories:\")\n",
    "        for a in self.article_category:\n",
    "            print(a)\n",
    "    def PrettyRedirects(self):\n",
    "        print(\"Redirect:\")\n",
    "        for a in self.redirect:\n",
    "            print(a)   \n",
    "    def PrettyLink(self):\n",
    "        print(\"Link:\")\n",
    "        for a in self.link:\n",
    "            print(a)  \n",
    "    \n",
    "    def toString(self):\n",
    "        print(self.article)\n",
    "        self.PrettyCategories()\n",
    "        self.PrettyRedirects()\n",
    "        self.PrettyLink()\n",
    "    "
   ]
  },
  {
   "cell_type": "code",
   "execution_count": 113,
   "metadata": {},
   "outputs": [],
   "source": [
    "allArticles = []"
   ]
  },
  {
   "cell_type": "code",
   "execution_count": 114,
   "metadata": {},
   "outputs": [],
   "source": [
    "allArticlesDictionary = {}\n",
    "articles_categories = open(\"D:/fiit/9 SEM/VINF/article_categories_sk.nq\",\"r\")\n",
    "\n",
    "words = []\n",
    "written = \"false\"\n",
    "for l in range(0,316049):\n",
    "    line = articles_categories.readline()\n",
    "    written = \"false\"\n",
    "    if (line.startswith('#') == False):\n",
    "        line = line.split(' ')\n",
    "        if line[0] in allArticlesDictionary:\n",
    "            written = \"true\"\n",
    "            allArticlesDictionary[line[0]].article_category.append(line[2])\n",
    "    if (written == \"false\"):\n",
    "        allArticlesDictionary[line[0]] = Record(line[0], [line[2]], [],[])\n",
    "\n"
   ]
  },
  {
   "cell_type": "code",
   "execution_count": 115,
   "metadata": {},
   "outputs": [],
   "source": [
    "redirects = open(\"D:/fiit/9 SEM/VINF/redirects_sk.nq\",\"r\")\n",
    "\n",
    "words = []\n",
    "start_time = time.time()\n",
    "for l in range(0,52000):\n",
    "    line = redirects.readline()\n",
    "    if (line.startswith('#') == False and line != ''):\n",
    "        line = line.split(' ')\n",
    "        if line[2] in allArticlesDictionary:\n",
    "            allArticlesDictionary[line[2]].redirect.append(line[0])\n",
    "    count = count + 1"
   ]
  },
  {
   "cell_type": "code",
   "execution_count": 116,
   "metadata": {},
   "outputs": [],
   "source": [
    "links = open(\"D:/fiit/9 SEM/VINF/interlanguage_links_sk.nq\",\"r\")\n",
    "\n",
    "words = []\n",
    "start_time = time.time()\n",
    "written = \"false\"\n",
    "for l in range(0,4669799):\n",
    "    line = links.readline()\n",
    "    if (line.startswith('#') == False and line != ''):\n",
    "        line = line.split(' ')\n",
    "        language = line[2]\n",
    "        if (language[8] == 'd' and language[9] == 'e'):\n",
    "            if line[0] in allArticlesDictionary:\n",
    "                allArticlesDictionary[line[0]].link.append(line[2])"
   ]
  },
  {
   "cell_type": "code",
   "execution_count": 117,
   "metadata": {},
   "outputs": [
    {
     "name": "stdout",
     "output_type": "stream",
     "text": [
      "<http://sk.dbpedia.org/resource/Isaac_Newton>\n",
      "Categories:\n",
      "<http://sk.dbpedia.org/resource/Kateg\\u00F3ria:Narodenia_v_1643>\n",
      "<http://sk.dbpedia.org/resource/Kateg\\u00F3ria:\\u00DAmrtia_v_1727>\n",
      "<http://sk.dbpedia.org/resource/Kateg\\u00F3ria:Anglick\\u00ED_filozofi>\n",
      "<http://sk.dbpedia.org/resource/Kateg\\u00F3ria:Anglick\\u00ED_fyzici>\n",
      "<http://sk.dbpedia.org/resource/Kateg\\u00F3ria:Anglick\\u00ED_matematici>\n",
      "<http://sk.dbpedia.org/resource/Kateg\\u00F3ria:Optici>\n",
      "<http://sk.dbpedia.org/resource/Kateg\\u00F3ria:Alchymisti>\n",
      "<http://sk.dbpedia.org/resource/Kateg\\u00F3ria:Okultisti>\n",
      "Redirect:\n",
      "<http://sk.dbpedia.org/resource/Sir_Isaac_Newton>\n",
      "Link:\n",
      "<http://de.dbpedia.org/resource/Isaac_Newton>\n",
      "None\n"
     ]
    }
   ],
   "source": [
    "print(allArticlesDictionary[\"<http://sk.dbpedia.org/resource/Isaac_Newton>\"].toString())"
   ]
  },
  {
   "cell_type": "code",
   "execution_count": null,
   "metadata": {},
   "outputs": [],
   "source": []
  },
  {
   "cell_type": "code",
   "execution_count": null,
   "metadata": {},
   "outputs": [],
   "source": []
  },
  {
   "cell_type": "code",
   "execution_count": null,
   "metadata": {},
   "outputs": [],
   "source": []
  }
 ],
 "metadata": {
  "kernelspec": {
   "display_name": "Python 3",
   "language": "python",
   "name": "python3"
  },
  "language_info": {
   "codemirror_mode": {
    "name": "ipython",
    "version": 3
   },
   "file_extension": ".py",
   "mimetype": "text/x-python",
   "name": "python",
   "nbconvert_exporter": "python",
   "pygments_lexer": "ipython3",
   "version": "3.8.3"
  }
 },
 "nbformat": 4,
 "nbformat_minor": 4
}
